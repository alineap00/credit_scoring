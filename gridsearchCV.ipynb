{
  "cells": [
    {
      "cell_type": "markdown",
      "source": [
        "**Prueba**"
      ],
      "metadata": {
        "id": "60MeSayrVqB2"
      }
    },
    {
      "cell_type": "code",
      "source": [
        "import pandas as pd\n",
        "from sklearn.model_selection import train_test_split, GridSearchCV\n",
        "from xgboost import XGBClassifier\n",
        "from sklearn.metrics import accuracy_score, classification_report\n",
        "\n",
        "# Cargar tus datos (asegúrate de tener un dataset adecuado)\n",
        "df_test = pd.read_csv(\"/content/drive/MyDrive/GSCred/cs-test.csv\", index_col=0)\n",
        "df_train = pd.read_csv(\"/content/drive/MyDrive/GSCred/cs-training.csv\", index_col=0)\n",
        "\n",
        "y = df_train.SeriousDlqin2yrs\n",
        "X = df_train.drop(['SeriousDlqin2yrs'], axis=1)\n",
        "\n",
        "\n",
        "# Dividir los datos en conjuntos de entrenamiento y prueba\n",
        "X_train, X_test, y_train, y_test = train_test_split(X, y, test_size=0.2, random_state=42)\n",
        "\n",
        "# Definir el clasificador XGBClassifier\n",
        "xgb_classifier = XGBClassifier()\n",
        "\n",
        "# Definir los hiperparámetros que quieres ajustar\n",
        "param_grid = {\n",
        "    'n_estimators': [50, 100, 200],\n",
        "    'max_depth': [3, 5, 7],\n",
        "    'learning_rate': [0.01, 0.1, 0.2],\n",
        "    'subsample': [0.8, 1.0],\n",
        "    'colsample_bytree': [0.8, 1.0],\n",
        "}\n",
        "\n",
        "# Realizar la búsqueda en cuadrícula para encontrar los mejores hiperparámetros\n",
        "grid_search = GridSearchCV(estimator=xgb_classifier, param_grid=param_grid, scoring='accuracy', cv=5)\n",
        "grid_search.fit(X_train, y_train)\n",
        "\n",
        "# Obtener los mejores hiperparámetros encontrados\n",
        "best_params = grid_search.best_params_\n",
        "\n",
        "# Crear un nuevo modelo XGBClassifier con los mejores hiperparámetros\n",
        "best_xgb_classifier = XGBClassifier(**best_params)\n",
        "\n",
        "# Entrenar el modelo con los datos de entrenamiento\n",
        "best_xgb_classifier.fit(X_train, y_train)\n",
        "\n",
        "# Realizar predicciones en el conjunto de prueba\n",
        "y_pred = best_xgb_classifier.predict(X_test)\n",
        "\n",
        "# Evaluar el rendimiento del modelo\n",
        "accuracy = accuracy_score(y_test, y_pred)\n",
        "classification_rep = classification_report(y_test, y_pred)\n",
        "\n",
        "# Imprimir resultados\n",
        "print(\"Mejores hiperparámetros:\", best_params)\n",
        "print(\"Exactitud en el conjunto de prueba:\", accuracy)\n",
        "print(\"Informe de clasificación:\")\n",
        "print(classification_rep)\n",
        "\n"
      ],
      "metadata": {
        "colab": {
          "base_uri": "https://localhost:8080/"
        },
        "id": "AIOHmOQActeF",
        "outputId": "be55c1cc-e663-43a6-afe2-62fb4cd8df60"
      },
      "execution_count": 1,
      "outputs": [
        {
          "output_type": "stream",
          "name": "stdout",
          "text": [
            "Mejores hiperparámetros: {'colsample_bytree': 0.8, 'learning_rate': 0.1, 'max_depth': 3, 'n_estimators': 100, 'subsample': 0.8}\n",
            "Exactitud en el conjunto de prueba: 0.9386666666666666\n",
            "Informe de clasificación:\n",
            "              precision    recall  f1-score   support\n",
            "\n",
            "           0       0.95      0.99      0.97     28044\n",
            "           1       0.59      0.20      0.30      1956\n",
            "\n",
            "    accuracy                           0.94     30000\n",
            "   macro avg       0.77      0.60      0.63     30000\n",
            "weighted avg       0.92      0.94      0.92     30000\n",
            "\n"
          ]
        }
      ]
    },
    {
      "cell_type": "code",
      "source": [
        "x = df_test.drop([\"SeriousDlqin2yrs\"], axis=1)\n",
        "y = best_xgb_classifier.predict_proba(x)[:, 1]\n",
        "ids = x.index.values\n",
        "\n",
        "#import numpy as np\n",
        "\n",
        "#ids = np.arange(1,len(y)+1)\n",
        "#submission = pd.DataFrame( {'Id': ids, 'Probability': y})\n",
        "#submission.to_csv(\"/kaggle/working/submission.csv\", index=False)"
      ],
      "metadata": {
        "id": "5XLkgL_guMeY"
      },
      "execution_count": 2,
      "outputs": []
    }
  ],
  "metadata": {
    "colab": {
      "provenance": [],
      "mount_file_id": "1qNEHo5X-J3Uqjk3UNYbboxAnf7otuzSS",
      "authorship_tag": "ABX9TyOI0qJfhOhJuYwWD6jfH5FH"
    },
    "kernelspec": {
      "display_name": "Python 3",
      "name": "python3"
    },
    "language_info": {
      "name": "python"
    }
  },
  "nbformat": 4,
  "nbformat_minor": 0
}