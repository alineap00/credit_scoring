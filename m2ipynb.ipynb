{
  "nbformat": 4,
  "nbformat_minor": 0,
  "metadata": {
    "colab": {
      "provenance": [],
      "mount_file_id": "1J1yt7LeA2qUczW8_buoCdEkelSZDf713",
      "authorship_tag": "ABX9TyNT06IC6zlel1Yx/4vNmVXK"
    },
    "kernelspec": {
      "name": "python3",
      "display_name": "Python 3"
    },
    "language_info": {
      "name": "python"
    }
  },
  "cells": [
    {
      "cell_type": "markdown",
      "source": [
        "**Módelo 2**\n",
        "\n"
      ],
      "metadata": {
        "id": "v0dWf5KAy15O"
      }
    },
    {
      "cell_type": "code",
      "execution_count": 1,
      "metadata": {
        "id": "M-jMCPWZyu9c"
      },
      "outputs": [],
      "source": [
        "import numpy as np\n",
        "import pandas as pd\n",
        "import seaborn as sns\n",
        "import matplotlib.pyplot as plt\n",
        "#%matplotlib inline"
      ]
    },
    {
      "cell_type": "code",
      "source": [
        "#Data\n",
        "df_test = pd.read_csv(\"/content/drive/MyDrive/GSCred/cs-test.csv\", index_col=0)\n",
        "df_train = pd.read_csv(\"/content/drive/MyDrive/GSCred/cs-training.csv\", index_col=0)\n",
        "df_train.head()"
      ],
      "metadata": {
        "colab": {
          "base_uri": "https://localhost:8080/",
          "height": 243
        },
        "id": "3aeDY30N3xxA",
        "outputId": "7e385391-95d1-46ba-8d6c-e22d410befd3"
      },
      "execution_count": 2,
      "outputs": [
        {
          "output_type": "execute_result",
          "data": {
            "text/plain": [
              "   SeriousDlqin2yrs  RevolvingUtilizationOfUnsecuredLines  age  \\\n",
              "1                 1                              0.766127   45   \n",
              "2                 0                              0.957151   40   \n",
              "3                 0                              0.658180   38   \n",
              "4                 0                              0.233810   30   \n",
              "5                 0                              0.907239   49   \n",
              "\n",
              "   NumberOfTime30-59DaysPastDueNotWorse  DebtRatio  MonthlyIncome  \\\n",
              "1                                     2   0.802982         9120.0   \n",
              "2                                     0   0.121876         2600.0   \n",
              "3                                     1   0.085113         3042.0   \n",
              "4                                     0   0.036050         3300.0   \n",
              "5                                     1   0.024926        63588.0   \n",
              "\n",
              "   NumberOfOpenCreditLinesAndLoans  NumberOfTimes90DaysLate  \\\n",
              "1                               13                        0   \n",
              "2                                4                        0   \n",
              "3                                2                        1   \n",
              "4                                5                        0   \n",
              "5                                7                        0   \n",
              "\n",
              "   NumberRealEstateLoansOrLines  NumberOfTime60-89DaysPastDueNotWorse  \\\n",
              "1                             6                                     0   \n",
              "2                             0                                     0   \n",
              "3                             0                                     0   \n",
              "4                             0                                     0   \n",
              "5                             1                                     0   \n",
              "\n",
              "   NumberOfDependents  \n",
              "1                 2.0  \n",
              "2                 1.0  \n",
              "3                 0.0  \n",
              "4                 0.0  \n",
              "5                 0.0  "
            ],
            "text/html": [
              "\n",
              "  <div id=\"df-c8881d49-b4d0-4710-af2c-8d8de535960c\" class=\"colab-df-container\">\n",
              "    <div>\n",
              "<style scoped>\n",
              "    .dataframe tbody tr th:only-of-type {\n",
              "        vertical-align: middle;\n",
              "    }\n",
              "\n",
              "    .dataframe tbody tr th {\n",
              "        vertical-align: top;\n",
              "    }\n",
              "\n",
              "    .dataframe thead th {\n",
              "        text-align: right;\n",
              "    }\n",
              "</style>\n",
              "<table border=\"1\" class=\"dataframe\">\n",
              "  <thead>\n",
              "    <tr style=\"text-align: right;\">\n",
              "      <th></th>\n",
              "      <th>SeriousDlqin2yrs</th>\n",
              "      <th>RevolvingUtilizationOfUnsecuredLines</th>\n",
              "      <th>age</th>\n",
              "      <th>NumberOfTime30-59DaysPastDueNotWorse</th>\n",
              "      <th>DebtRatio</th>\n",
              "      <th>MonthlyIncome</th>\n",
              "      <th>NumberOfOpenCreditLinesAndLoans</th>\n",
              "      <th>NumberOfTimes90DaysLate</th>\n",
              "      <th>NumberRealEstateLoansOrLines</th>\n",
              "      <th>NumberOfTime60-89DaysPastDueNotWorse</th>\n",
              "      <th>NumberOfDependents</th>\n",
              "    </tr>\n",
              "  </thead>\n",
              "  <tbody>\n",
              "    <tr>\n",
              "      <th>1</th>\n",
              "      <td>1</td>\n",
              "      <td>0.766127</td>\n",
              "      <td>45</td>\n",
              "      <td>2</td>\n",
              "      <td>0.802982</td>\n",
              "      <td>9120.0</td>\n",
              "      <td>13</td>\n",
              "      <td>0</td>\n",
              "      <td>6</td>\n",
              "      <td>0</td>\n",
              "      <td>2.0</td>\n",
              "    </tr>\n",
              "    <tr>\n",
              "      <th>2</th>\n",
              "      <td>0</td>\n",
              "      <td>0.957151</td>\n",
              "      <td>40</td>\n",
              "      <td>0</td>\n",
              "      <td>0.121876</td>\n",
              "      <td>2600.0</td>\n",
              "      <td>4</td>\n",
              "      <td>0</td>\n",
              "      <td>0</td>\n",
              "      <td>0</td>\n",
              "      <td>1.0</td>\n",
              "    </tr>\n",
              "    <tr>\n",
              "      <th>3</th>\n",
              "      <td>0</td>\n",
              "      <td>0.658180</td>\n",
              "      <td>38</td>\n",
              "      <td>1</td>\n",
              "      <td>0.085113</td>\n",
              "      <td>3042.0</td>\n",
              "      <td>2</td>\n",
              "      <td>1</td>\n",
              "      <td>0</td>\n",
              "      <td>0</td>\n",
              "      <td>0.0</td>\n",
              "    </tr>\n",
              "    <tr>\n",
              "      <th>4</th>\n",
              "      <td>0</td>\n",
              "      <td>0.233810</td>\n",
              "      <td>30</td>\n",
              "      <td>0</td>\n",
              "      <td>0.036050</td>\n",
              "      <td>3300.0</td>\n",
              "      <td>5</td>\n",
              "      <td>0</td>\n",
              "      <td>0</td>\n",
              "      <td>0</td>\n",
              "      <td>0.0</td>\n",
              "    </tr>\n",
              "    <tr>\n",
              "      <th>5</th>\n",
              "      <td>0</td>\n",
              "      <td>0.907239</td>\n",
              "      <td>49</td>\n",
              "      <td>1</td>\n",
              "      <td>0.024926</td>\n",
              "      <td>63588.0</td>\n",
              "      <td>7</td>\n",
              "      <td>0</td>\n",
              "      <td>1</td>\n",
              "      <td>0</td>\n",
              "      <td>0.0</td>\n",
              "    </tr>\n",
              "  </tbody>\n",
              "</table>\n",
              "</div>\n",
              "    <div class=\"colab-df-buttons\">\n",
              "\n",
              "  <div class=\"colab-df-container\">\n",
              "    <button class=\"colab-df-convert\" onclick=\"convertToInteractive('df-c8881d49-b4d0-4710-af2c-8d8de535960c')\"\n",
              "            title=\"Convert this dataframe to an interactive table.\"\n",
              "            style=\"display:none;\">\n",
              "\n",
              "  <svg xmlns=\"http://www.w3.org/2000/svg\" height=\"24px\" viewBox=\"0 -960 960 960\">\n",
              "    <path d=\"M120-120v-720h720v720H120Zm60-500h600v-160H180v160Zm220 220h160v-160H400v160Zm0 220h160v-160H400v160ZM180-400h160v-160H180v160Zm440 0h160v-160H620v160ZM180-180h160v-160H180v160Zm440 0h160v-160H620v160Z\"/>\n",
              "  </svg>\n",
              "    </button>\n",
              "\n",
              "  <style>\n",
              "    .colab-df-container {\n",
              "      display:flex;\n",
              "      gap: 12px;\n",
              "    }\n",
              "\n",
              "    .colab-df-convert {\n",
              "      background-color: #E8F0FE;\n",
              "      border: none;\n",
              "      border-radius: 50%;\n",
              "      cursor: pointer;\n",
              "      display: none;\n",
              "      fill: #1967D2;\n",
              "      height: 32px;\n",
              "      padding: 0 0 0 0;\n",
              "      width: 32px;\n",
              "    }\n",
              "\n",
              "    .colab-df-convert:hover {\n",
              "      background-color: #E2EBFA;\n",
              "      box-shadow: 0px 1px 2px rgba(60, 64, 67, 0.3), 0px 1px 3px 1px rgba(60, 64, 67, 0.15);\n",
              "      fill: #174EA6;\n",
              "    }\n",
              "\n",
              "    .colab-df-buttons div {\n",
              "      margin-bottom: 4px;\n",
              "    }\n",
              "\n",
              "    [theme=dark] .colab-df-convert {\n",
              "      background-color: #3B4455;\n",
              "      fill: #D2E3FC;\n",
              "    }\n",
              "\n",
              "    [theme=dark] .colab-df-convert:hover {\n",
              "      background-color: #434B5C;\n",
              "      box-shadow: 0px 1px 3px 1px rgba(0, 0, 0, 0.15);\n",
              "      filter: drop-shadow(0px 1px 2px rgba(0, 0, 0, 0.3));\n",
              "      fill: #FFFFFF;\n",
              "    }\n",
              "  </style>\n",
              "\n",
              "    <script>\n",
              "      const buttonEl =\n",
              "        document.querySelector('#df-c8881d49-b4d0-4710-af2c-8d8de535960c button.colab-df-convert');\n",
              "      buttonEl.style.display =\n",
              "        google.colab.kernel.accessAllowed ? 'block' : 'none';\n",
              "\n",
              "      async function convertToInteractive(key) {\n",
              "        const element = document.querySelector('#df-c8881d49-b4d0-4710-af2c-8d8de535960c');\n",
              "        const dataTable =\n",
              "          await google.colab.kernel.invokeFunction('convertToInteractive',\n",
              "                                                    [key], {});\n",
              "        if (!dataTable) return;\n",
              "\n",
              "        const docLinkHtml = 'Like what you see? Visit the ' +\n",
              "          '<a target=\"_blank\" href=https://colab.research.google.com/notebooks/data_table.ipynb>data table notebook</a>'\n",
              "          + ' to learn more about interactive tables.';\n",
              "        element.innerHTML = '';\n",
              "        dataTable['output_type'] = 'display_data';\n",
              "        await google.colab.output.renderOutput(dataTable, element);\n",
              "        const docLink = document.createElement('div');\n",
              "        docLink.innerHTML = docLinkHtml;\n",
              "        element.appendChild(docLink);\n",
              "      }\n",
              "    </script>\n",
              "  </div>\n",
              "\n",
              "\n",
              "<div id=\"df-e778e275-e95c-45bd-a453-205f563627af\">\n",
              "  <button class=\"colab-df-quickchart\" onclick=\"quickchart('df-e778e275-e95c-45bd-a453-205f563627af')\"\n",
              "            title=\"Suggest charts\"\n",
              "            style=\"display:none;\">\n",
              "\n",
              "<svg xmlns=\"http://www.w3.org/2000/svg\" height=\"24px\"viewBox=\"0 0 24 24\"\n",
              "     width=\"24px\">\n",
              "    <g>\n",
              "        <path d=\"M19 3H5c-1.1 0-2 .9-2 2v14c0 1.1.9 2 2 2h14c1.1 0 2-.9 2-2V5c0-1.1-.9-2-2-2zM9 17H7v-7h2v7zm4 0h-2V7h2v10zm4 0h-2v-4h2v4z\"/>\n",
              "    </g>\n",
              "</svg>\n",
              "  </button>\n",
              "\n",
              "<style>\n",
              "  .colab-df-quickchart {\n",
              "      --bg-color: #E8F0FE;\n",
              "      --fill-color: #1967D2;\n",
              "      --hover-bg-color: #E2EBFA;\n",
              "      --hover-fill-color: #174EA6;\n",
              "      --disabled-fill-color: #AAA;\n",
              "      --disabled-bg-color: #DDD;\n",
              "  }\n",
              "\n",
              "  [theme=dark] .colab-df-quickchart {\n",
              "      --bg-color: #3B4455;\n",
              "      --fill-color: #D2E3FC;\n",
              "      --hover-bg-color: #434B5C;\n",
              "      --hover-fill-color: #FFFFFF;\n",
              "      --disabled-bg-color: #3B4455;\n",
              "      --disabled-fill-color: #666;\n",
              "  }\n",
              "\n",
              "  .colab-df-quickchart {\n",
              "    background-color: var(--bg-color);\n",
              "    border: none;\n",
              "    border-radius: 50%;\n",
              "    cursor: pointer;\n",
              "    display: none;\n",
              "    fill: var(--fill-color);\n",
              "    height: 32px;\n",
              "    padding: 0;\n",
              "    width: 32px;\n",
              "  }\n",
              "\n",
              "  .colab-df-quickchart:hover {\n",
              "    background-color: var(--hover-bg-color);\n",
              "    box-shadow: 0 1px 2px rgba(60, 64, 67, 0.3), 0 1px 3px 1px rgba(60, 64, 67, 0.15);\n",
              "    fill: var(--button-hover-fill-color);\n",
              "  }\n",
              "\n",
              "  .colab-df-quickchart-complete:disabled,\n",
              "  .colab-df-quickchart-complete:disabled:hover {\n",
              "    background-color: var(--disabled-bg-color);\n",
              "    fill: var(--disabled-fill-color);\n",
              "    box-shadow: none;\n",
              "  }\n",
              "\n",
              "  .colab-df-spinner {\n",
              "    border: 2px solid var(--fill-color);\n",
              "    border-color: transparent;\n",
              "    border-bottom-color: var(--fill-color);\n",
              "    animation:\n",
              "      spin 1s steps(1) infinite;\n",
              "  }\n",
              "\n",
              "  @keyframes spin {\n",
              "    0% {\n",
              "      border-color: transparent;\n",
              "      border-bottom-color: var(--fill-color);\n",
              "      border-left-color: var(--fill-color);\n",
              "    }\n",
              "    20% {\n",
              "      border-color: transparent;\n",
              "      border-left-color: var(--fill-color);\n",
              "      border-top-color: var(--fill-color);\n",
              "    }\n",
              "    30% {\n",
              "      border-color: transparent;\n",
              "      border-left-color: var(--fill-color);\n",
              "      border-top-color: var(--fill-color);\n",
              "      border-right-color: var(--fill-color);\n",
              "    }\n",
              "    40% {\n",
              "      border-color: transparent;\n",
              "      border-right-color: var(--fill-color);\n",
              "      border-top-color: var(--fill-color);\n",
              "    }\n",
              "    60% {\n",
              "      border-color: transparent;\n",
              "      border-right-color: var(--fill-color);\n",
              "    }\n",
              "    80% {\n",
              "      border-color: transparent;\n",
              "      border-right-color: var(--fill-color);\n",
              "      border-bottom-color: var(--fill-color);\n",
              "    }\n",
              "    90% {\n",
              "      border-color: transparent;\n",
              "      border-bottom-color: var(--fill-color);\n",
              "    }\n",
              "  }\n",
              "</style>\n",
              "\n",
              "  <script>\n",
              "    async function quickchart(key) {\n",
              "      const quickchartButtonEl =\n",
              "        document.querySelector('#' + key + ' button');\n",
              "      quickchartButtonEl.disabled = true;  // To prevent multiple clicks.\n",
              "      quickchartButtonEl.classList.add('colab-df-spinner');\n",
              "      try {\n",
              "        const charts = await google.colab.kernel.invokeFunction(\n",
              "            'suggestCharts', [key], {});\n",
              "      } catch (error) {\n",
              "        console.error('Error during call to suggestCharts:', error);\n",
              "      }\n",
              "      quickchartButtonEl.classList.remove('colab-df-spinner');\n",
              "      quickchartButtonEl.classList.add('colab-df-quickchart-complete');\n",
              "    }\n",
              "    (() => {\n",
              "      let quickchartButtonEl =\n",
              "        document.querySelector('#df-e778e275-e95c-45bd-a453-205f563627af button');\n",
              "      quickchartButtonEl.style.display =\n",
              "        google.colab.kernel.accessAllowed ? 'block' : 'none';\n",
              "    })();\n",
              "  </script>\n",
              "</div>\n",
              "    </div>\n",
              "  </div>\n"
            ],
            "application/vnd.google.colaboratory.intrinsic+json": {
              "type": "dataframe",
              "variable_name": "df_train"
            }
          },
          "metadata": {},
          "execution_count": 2
        }
      ]
    },
    {
      "cell_type": "code",
      "source": [
        "sns.countplot(data=df_train, x='SeriousDlqin2yrs')"
      ],
      "metadata": {
        "colab": {
          "base_uri": "https://localhost:8080/",
          "height": 467
        },
        "id": "9can__ly4lxg",
        "outputId": "cdede90b-cbd3-471a-8f32-532c7d1f3d4b"
      },
      "execution_count": 3,
      "outputs": [
        {
          "output_type": "execute_result",
          "data": {
            "text/plain": [
              "<Axes: xlabel='SeriousDlqin2yrs', ylabel='count'>"
            ]
          },
          "metadata": {},
          "execution_count": 3
        },
        {
          "output_type": "display_data",
          "data": {
            "text/plain": [
              "<Figure size 640x480 with 1 Axes>"
            ],
            "image/png": "[encoded data removed]"
          },
          "metadata": {}
        }
      ]
    },
    {
      "cell_type": "code",
      "source": [
        "from sklearn.model_selection import train_test_split\n",
        "\n",
        "# Separar la variable objetivo\n",
        "y = df_train.SeriousDlqin2yrs\n",
        "X = df_train.drop(['SeriousDlqin2yrs'], axis=1)\n",
        "\n",
        "# Dividir el conjunto de datos de entrenamiento y prueba\n",
        "X_train, X_valid, y_train, y_valid = train_test_split(X, y, test_size=0.2, random_state=42, stratify=y)\n"
      ],
      "metadata": {
        "id": "ATx82_9T4ria"
      },
      "execution_count": 4,
      "outputs": []
    },
    {
      "cell_type": "code",
      "source": [
        "from xgboost import XGBClassifier\n",
        "\n",
        "# Modelo\n",
        "model = XGBClassifier(\n",
        "    learning_rate=0.01,\n",
        "    n_estimators=100,\n",
        "    max_depth=6,\n",
        "    reg_alpha=1,\n",
        "    reg_lambda=1,\n",
        "    scale_pos_weight=1,\n",
        "    objective='binary:logistic',\n",
        "    random_state=42\n",
        ") #*\n",
        "model.fit(X_train, y_train, eval_set=[(X_valid, y_valid)])\n"
      ],
      "metadata": {
        "colab": {
          "base_uri": "https://localhost:8080/",
          "height": 1000
        },
        "id": "rUXdXsl54xKD",
        "outputId": "3621f92b-a8c4-4c46-c415-d892f33cb46e"
      },
      "execution_count": 5,
      "outputs": [
        {
          "output_type": "stream",
          "name": "stdout",
          "text": [
            "[0]\tvalidation_0-logloss:0.27709\n",
            "[1]\tvalidation_0-logloss:0.27561\n",
            "[2]\tvalidation_0-logloss:0.27416\n",
            "[3]\tvalidation_0-logloss:0.27274\n",
            "[4]\tvalidation_0-logloss:0.27135\n",
            "[5]\tvalidation_0-logloss:0.26999\n",
            "[6]\tvalidation_0-logloss:0.26866\n",
            "[7]\tvalidation_0-logloss:0.26735\n",
            "[8]\tvalidation_0-logloss:0.26606\n",
            "[9]\tvalidation_0-logloss:0.26480\n",
            "[10]\tvalidation_0-logloss:0.26355\n",
            "[11]\tvalidation_0-logloss:0.26233\n",
            "[12]\tvalidation_0-logloss:0.26113\n",
            "[13]\tvalidation_0-logloss:0.25996\n",
            "[14]\tvalidation_0-logloss:0.25880\n",
            "[15]\tvalidation_0-logloss:0.25767\n",
            "[16]\tvalidation_0-logloss:0.25654\n",
            "[17]\tvalidation_0-logloss:0.25544\n",
            "[18]\tvalidation_0-logloss:0.25435\n",
            "[19]\tvalidation_0-logloss:0.25328\n",
            "[20]\tvalidation_0-logloss:0.25223\n",
            "[21]\tvalidation_0-logloss:0.25120\n",
            "[22]\tvalidation_0-logloss:0.25018\n",
            "[23]\tvalidation_0-logloss:0.24918\n",
            "[24]\tvalidation_0-logloss:0.24819\n",
            "[25]\tvalidation_0-logloss:0.24722\n",
            "[26]\tvalidation_0-logloss:0.24627\n",
            "[27]\tvalidation_0-logloss:0.24533\n",
            "[28]\tvalidation_0-logloss:0.24441\n",
            "[29]\tvalidation_0-logloss:0.24350\n",
            "[30]\tvalidation_0-logloss:0.24260\n",
            "[31]\tvalidation_0-logloss:0.24173\n",
            "[32]\tvalidation_0-logloss:0.24086\n",
            "[33]\tvalidation_0-logloss:0.24000\n",
            "[34]\tvalidation_0-logloss:0.23916\n",
            "[35]\tvalidation_0-logloss:0.23834\n",
            "[36]\tvalidation_0-logloss:0.23752\n",
            "[37]\tvalidation_0-logloss:0.23672\n",
            "[38]\tvalidation_0-logloss:0.23592\n",
            "[39]\tvalidation_0-logloss:0.23514\n",
            "[40]\tvalidation_0-logloss:0.23438\n",
            "[41]\tvalidation_0-logloss:0.23361\n",
            "[42]\tvalidation_0-logloss:0.23287\n",
            "[43]\tvalidation_0-logloss:0.23213\n",
            "[44]\tvalidation_0-logloss:0.23140\n",
            "[45]\tvalidation_0-logloss:0.23069\n",
            "[46]\tvalidation_0-logloss:0.22998\n",
            "[47]\tvalidation_0-logloss:0.22928\n",
            "[48]\tvalidation_0-logloss:0.22860\n",
            "[49]\tvalidation_0-logloss:0.22792\n",
            "[50]\tvalidation_0-logloss:0.22725\n",
            "[51]\tvalidation_0-logloss:0.22659\n",
            "[52]\tvalidation_0-logloss:0.22595\n",
            "[53]\tvalidation_0-logloss:0.22530\n",
            "[54]\tvalidation_0-logloss:0.22467\n",
            "[55]\tvalidation_0-logloss:0.22405\n",
            "[56]\tvalidation_0-logloss:0.22344\n",
            "[57]\tvalidation_0-logloss:0.22283\n",
            "[58]\tvalidation_0-logloss:0.22224\n",
            "[59]\tvalidation_0-logloss:0.22165\n",
            "[60]\tvalidation_0-logloss:0.22107\n",
            "[61]\tvalidation_0-logloss:0.22050\n",
            "[62]\tvalidation_0-logloss:0.21994\n",
            "[63]\tvalidation_0-logloss:0.21938\n",
            "[64]\tvalidation_0-logloss:0.21883\n",
            "[65]\tvalidation_0-logloss:0.21830\n",
            "[66]\tvalidation_0-logloss:0.21776\n",
            "[67]\tvalidation_0-logloss:0.21723\n",
            "[68]\tvalidation_0-logloss:0.21672\n",
            "[69]\tvalidation_0-logloss:0.21621\n",
            "[70]\tvalidation_0-logloss:0.21571\n",
            "[71]\tvalidation_0-logloss:0.21522\n",
            "[72]\tvalidation_0-logloss:0.21473\n",
            "[73]\tvalidation_0-logloss:0.21425\n",
            "[74]\tvalidation_0-logloss:0.21377\n",
            "[75]\tvalidation_0-logloss:0.21331\n",
            "[76]\tvalidation_0-logloss:0.21284\n",
            "[77]\tvalidation_0-logloss:0.21239\n",
            "[78]\tvalidation_0-logloss:0.21194\n",
            "[79]\tvalidation_0-logloss:0.21149\n",
            "[80]\tvalidation_0-logloss:0.21105\n",
            "[81]\tvalidation_0-logloss:0.21062\n",
            "[82]\tvalidation_0-logloss:0.21019\n",
            "[83]\tvalidation_0-logloss:0.20976\n",
            "[84]\tvalidation_0-logloss:0.20934\n",
            "[85]\tvalidation_0-logloss:0.20893\n",
            "[86]\tvalidation_0-logloss:0.20851\n",
            "[87]\tvalidation_0-logloss:0.20811\n",
            "[88]\tvalidation_0-logloss:0.20772\n",
            "[89]\tvalidation_0-logloss:0.20732\n",
            "[90]\tvalidation_0-logloss:0.20694\n",
            "[91]\tvalidation_0-logloss:0.20656\n",
            "[92]\tvalidation_0-logloss:0.20619\n",
            "[93]\tvalidation_0-logloss:0.20582\n",
            "[94]\tvalidation_0-logloss:0.20547\n",
            "[95]\tvalidation_0-logloss:0.20511\n",
            "[96]\tvalidation_0-logloss:0.20476\n",
            "[97]\tvalidation_0-logloss:0.20441\n",
            "[98]\tvalidation_0-logloss:0.20406\n",
            "[99]\tvalidation_0-logloss:0.20372\n"
          ]
        },
        {
          "output_type": "execute_result",
          "data": {
            "text/plain": [
              "XGBClassifier(base_score=None, booster=None, callbacks=None,\n",
              "              colsample_bylevel=None, colsample_bynode=None,\n",
              "              colsample_bytree=None, device=None, early_stopping_rounds=None,\n",
              "              enable_categorical=False, eval_metric=None, feature_types=None,\n",
              "              gamma=None, grow_policy=None, importance_type=None,\n",
              "              interaction_constraints=None, learning_rate=0.01, max_bin=None,\n",
              "              max_cat_threshold=None, max_cat_to_onehot=None,\n",
              "              max_delta_step=None, max_depth=6, max_leaves=None,\n",
              "              min_child_weight=None, missing=nan, monotone_constraints=None,\n",
              "              multi_strategy=None, n_estimators=100, n_jobs=None,\n",
              "              num_parallel_tree=None, random_state=42, ...)"
            ],
            "text/html": [
              "<style>#sk-container-id-1 {color: black;background-color: white;}#sk-container-id-1 pre{padding: 0;}#sk-container-id-1 div.sk-toggleable {background-color: white;}#sk-container-id-1 label.sk-toggleable__label {cursor: pointer;display: block;width: 100%;margin-bottom: 0;padding: 0.3em;box-sizing: border-box;text-align: center;}#sk-container-id-1 label.sk-toggleable__label-arrow:before {content: \"▸\";float: left;margin-right: 0.25em;color: #696969;}#sk-container-id-1 label.sk-toggleable__label-arrow:hover:before {color: black;}#sk-container-id-1 div.sk-estimator:hover label.sk-toggleable__label-arrow:before {color: black;}#sk-container-id-1 div.sk-toggleable__content {max-height: 0;max-width: 0;overflow: hidden;text-align: left;background-color: #f0f8ff;}#sk-container-id-1 div.sk-toggleable__content pre {margin: 0.2em;color: black;border-radius: 0.25em;background-color: #f0f8ff;}#sk-container-id-1 input.sk-toggleable__control:checked~div.sk-toggleable__content {max-height: 200px;max-width: 100%;overflow: auto;}#sk-container-id-1 input.sk-toggleable__control:checked~label.sk-toggleable__label-arrow:before {content: \"▾\";}#sk-container-id-1 div.sk-estimator input.sk-toggleable__control:checked~label.sk-toggleable__label {background-color: #d4ebff;}#sk-container-id-1 div.sk-label input.sk-toggleable__control:checked~label.sk-toggleable__label {background-color: #d4ebff;}#sk-container-id-1 input.sk-hidden--visually {border: 0;clip: rect(1px 1px 1px 1px);clip: rect(1px, 1px, 1px, 1px);height: 1px;margin: -1px;overflow: hidden;padding: 0;position: absolute;width: 1px;}#sk-container-id-1 div.sk-estimator {font-family: monospace;background-color: #f0f8ff;border: 1px dotted black;border-radius: 0.25em;box-sizing: border-box;margin-bottom: 0.5em;}#sk-container-id-1 div.sk-estimator:hover {background-color: #d4ebff;}#sk-container-id-1 div.sk-parallel-item::after {content: \"\";width: 100%;border-bottom: 1px solid gray;flex-grow: 1;}#sk-container-id-1 div.sk-label:hover label.sk-toggleable__label {background-color: #d4ebff;}#sk-container-id-1 div.sk-serial::before {content: \"\";position: absolute;border-left: 1px solid gray;box-sizing: border-box;top: 0;bottom: 0;left: 50%;z-index: 0;}#sk-container-id-1 div.sk-serial {display: flex;flex-direction: column;align-items: center;background-color: white;padding-right: 0.2em;padding-left: 0.2em;position: relative;}#sk-container-id-1 div.sk-item {position: relative;z-index: 1;}#sk-container-id-1 div.sk-parallel {display: flex;align-items: stretch;justify-content: center;background-color: white;position: relative;}#sk-container-id-1 div.sk-item::before, #sk-container-id-1 div.sk-parallel-item::before {content: \"\";position: absolute;border-left: 1px solid gray;box-sizing: border-box;top: 0;bottom: 0;left: 50%;z-index: -1;}#sk-container-id-1 div.sk-parallel-item {display: flex;flex-direction: column;z-index: 1;position: relative;background-color: white;}#sk-container-id-1 div.sk-parallel-item:first-child::after {align-self: flex-end;width: 50%;}#sk-container-id-1 div.sk-parallel-item:last-child::after {align-self: flex-start;width: 50%;}#sk-container-id-1 div.sk-parallel-item:only-child::after {width: 0;}#sk-container-id-1 div.sk-dashed-wrapped {border: 1px dashed gray;margin: 0 0.4em 0.5em 0.4em;box-sizing: border-box;padding-bottom: 0.4em;background-color: white;}#sk-container-id-1 div.sk-label label {font-family: monospace;font-weight: bold;display: inline-block;line-height: 1.2em;}#sk-container-id-1 div.sk-label-container {text-align: center;}#sk-container-id-1 div.sk-container {/* jupyter's `normalize.less` sets `[hidden] { display: none; }` but bootstrap.min.css set `[hidden] { display: none !important; }` so we also need the `!important` here to be able to override the default hidden behavior on the sphinx rendered scikit-learn.org. See: https://github.com/scikit-learn/scikit-learn/issues/21755 */display: inline-block !important;position: relative;}#sk-container-id-1 div.sk-text-repr-fallback {display: none;}</style><div id=\"sk-container-id-1\" class=\"sk-top-container\"><div class=\"sk-text-repr-fallback\"><pre>XGBClassifier(base_score=None, booster=None, callbacks=None,\n",
              "              colsample_bylevel=None, colsample_bynode=None,\n",
              "              colsample_bytree=None, device=None, early_stopping_rounds=None,\n",
              "              enable_categorical=False, eval_metric=None, feature_types=None,\n",
              "              gamma=None, grow_policy=None, importance_type=None,\n",
              "              interaction_constraints=None, learning_rate=0.01, max_bin=None,\n",
              "              max_cat_threshold=None, max_cat_to_onehot=None,\n",
              "              max_delta_step=None, max_depth=6, max_leaves=None,\n",
              "              min_child_weight=None, missing=nan, monotone_constraints=None,\n",
              "              multi_strategy=None, n_estimators=100, n_jobs=None,\n",
              "              num_parallel_tree=None, random_state=42, ...)</pre><b>In a Jupyter environment, please rerun this cell to show the HTML representation or trust the notebook. <br />On GitHub, the HTML representation is unable to render, please try loading this page with nbviewer.org.</b></div><div class=\"sk-container\" hidden><div class=\"sk-item\"><div class=\"sk-estimator sk-toggleable\"><input class=\"sk-toggleable__control sk-hidden--visually\" id=\"sk-estimator-id-1\" type=\"checkbox\" checked><label for=\"sk-estimator-id-1\" class=\"sk-toggleable__label sk-toggleable__label-arrow\">XGBClassifier</label><div class=\"sk-toggleable__content\"><pre>XGBClassifier(base_score=None, booster=None, callbacks=None,\n",
              "              colsample_bylevel=None, colsample_bynode=None,\n",
              "              colsample_bytree=None, device=None, early_stopping_rounds=None,\n",
              "              enable_categorical=False, eval_metric=None, feature_types=None,\n",
              "              gamma=None, grow_policy=None, importance_type=None,\n",
              "              interaction_constraints=None, learning_rate=0.01, max_bin=None,\n",
              "              max_cat_threshold=None, max_cat_to_onehot=None,\n",
              "              max_delta_step=None, max_depth=6, max_leaves=None,\n",
              "              min_child_weight=None, missing=nan, monotone_constraints=None,\n",
              "              multi_strategy=None, n_estimators=100, n_jobs=None,\n",
              "              num_parallel_tree=None, random_state=42, ...)</pre></div></div></div></div></div>"
            ]
          },
          "metadata": {},
          "execution_count": 5
        }
      ]
    },
    {
      "cell_type": "markdown",
      "source": [
        "model.fit() entrena un modelo de aprendizaje automático en un conjunto de datos de entrenamiento determinado y evalúa su rendimiento en un conjunto de datos de validación. Esto ayuda a garantizar que el modelo pueda generalizarse bien a datos nuevos e invisibles."
      ],
      "metadata": {
        "id": "ylqS1xP9AFig"
      }
    },
    {
      "cell_type": "code",
      "source": [
        "\n",
        "X_test = df_test.drop(columns=['SeriousDlqin2yrs'])\n",
        "pred = model.predict_proba(X_test)[:,1]\n",
        "pred"
      ],
      "metadata": {
        "colab": {
          "base_uri": "https://localhost:8080/"
        },
        "id": "cFPHA2e846RP",
        "outputId": "47e95d6e-42ce-422e-b657-c9adda1b7661"
      },
      "execution_count": 6,
      "outputs": [
        {
          "output_type": "execute_result",
          "data": {
            "text/plain": [
              "array([0.11068362, 0.09648507, 0.0617157 , ..., 0.0617157 , 0.12540786,\n",
              "       0.07441822], dtype=float32)"
            ]
          },
          "metadata": {},
          "execution_count": 6
        }
      ]
    },
    {
      "cell_type": "code",
      "source": [
        "from hyperopt import hp, tpe, fmin\n",
        "from sklearn.model_selection import cross_val_score, StratifiedKFold\n",
        "\n",
        "# Definir el espacio de busqueda y la funcion objetivo\n",
        "\n",
        "space = {'n_estimators':hp.quniform('n_estimators', 10, 4000, 10),\n",
        "        'learning_rate':hp.uniform('learning_rate', 0.00001, 0.03),\n",
        "         'max_depth':hp.quniform('max_depth', 3,7,1),\n",
        "         'subsample':hp.uniform('subsample', 0.60, 0.95),\n",
        "         'colsample_bytree':hp.uniform('colsample_bytree', 0.60, 0.95),\n",
        "         'reg_lambda': hp.uniform('reg_lambda', 1, 20),\n",
        "        }\n",
        "def objective(params):\n",
        "    params = {'n_estimators': int(params['n_estimators']),\n",
        "             'learning_rate': params['learning_rate'],\n",
        "             'max_depth': int(params['max_depth']),\n",
        "             'subsample': params['subsample'],\n",
        "             'colsample_bytree': params['colsample_bytree'],\n",
        "             'reg_lambda': params['reg_lambda'],\n",
        "             }\n",
        "\n",
        "    XGBClass= XGBClassifier(**params)\n",
        "    cv = StratifiedKFold(5)\n",
        "    score = cross_val_score(XGBClass, X_train, y_train, scoring='roc_auc', cv=cv, n_jobs=-1).mean()\n",
        "    return -score"
      ],
      "metadata": {
        "id": "6T5-WZTW6JBb"
      },
      "execution_count": 7,
      "outputs": []
    },
    {
      "cell_type": "code",
      "source": [
        "best = fmin(fn=objective, space=space, max_evals=20, algo=tpe.suggest)\n"
      ],
      "metadata": {
        "colab": {
          "base_uri": "https://localhost:8080/"
        },
        "id": "PPkhC4nu6UX-",
        "outputId": "108be7ee-8400-4dbd-8dd8-226b3be690c5"
      },
      "execution_count": 8,
      "outputs": [
        {
          "output_type": "stream",
          "name": "stdout",
          "text": [
            "100%|██████████| 20/20 [34:50<00:00, 104.51s/trial, best loss: -0.865099906394396]\n"
          ]
        }
      ]
    },
    {
      "cell_type": "code",
      "source": [
        "best"
      ],
      "metadata": {
        "id": "CLI0ERJM6YVo",
        "colab": {
          "base_uri": "https://localhost:8080/"
        },
        "outputId": "79be42f6-beb6-4f58-dabb-4faba2d37a67"
      },
      "execution_count": 9,
      "outputs": [
        {
          "output_type": "execute_result",
          "data": {
            "text/plain": [
              "{'colsample_bytree': 0.8396185295437053,\n",
              " 'learning_rate': 0.005566510152452139,\n",
              " 'max_depth': 4.0,\n",
              " 'n_estimators': 2320.0,\n",
              " 'reg_lambda': 3.104583597664072,\n",
              " 'subsample': 0.6929307892208528}"
            ]
          },
          "metadata": {},
          "execution_count": 9
        }
      ]
    },
    {
      "cell_type": "code",
      "source": [
        "model_tuned = XGBClassifier(n_estimators=int(best['n_estimators']),\n",
        "                        colsample_bytree= best['colsample_bytree'],\n",
        "                        learning_rate= best['learning_rate'],\n",
        "                        max_depth= int(best['max_depth']),\n",
        "                        subsample= best['subsample'],\n",
        "                        reg_lambda= best['reg_lambda']\n",
        "                       )\n",
        "\n",
        "model_tuned.fit(X_train, y_train)\n",
        "\n",
        "pred = model_tuned.predict_proba(X_test)[:,1]\n",
        "pred"
      ],
      "metadata": {
        "id": "A4AtSoxr7lfk",
        "colab": {
          "base_uri": "https://localhost:8080/"
        },
        "outputId": "aa9faee3-d3b4-4fe0-a0de-6bdf673c5a79"
      },
      "execution_count": 10,
      "outputs": [
        {
          "output_type": "execute_result",
          "data": {
            "text/plain": [
              "array([0.06605849, 0.05338925, 0.01244136, ..., 0.00549193, 0.06770771,\n",
              "       0.04108468], dtype=float32)"
            ]
          },
          "metadata": {},
          "execution_count": 10
        }
      ]
    },
    {
      "cell_type": "code",
      "source": [
        "#output = pd.DataFrame({'Id': X_test.index,'Probability': pred})\n",
        "#output.to_csv('submission.csv', index=False)"
      ],
      "metadata": {
        "id": "tFWCOwAC7qnF"
      },
      "execution_count": null,
      "outputs": []
    },
    {
      "cell_type": "markdown",
      "source": [
        "________________________"
      ],
      "metadata": {
        "id": "-R5RkbvQOzFs"
      }
    }
  ]
}